{
 "cells": [
  {
   "cell_type": "code",
   "execution_count": 1,
   "metadata": {
    "collapsed": true
   },
   "outputs": [],
   "source": [
    "# general packages\n",
    "import random\n",
    "import warnings\n",
    "import seaborn as sns\n",
    "\n",
    "\n",
    "from dask import dataframe as dd\n",
    "from dask.distributed import Client\n",
    "\n",
    "warnings.simplefilter('ignore')\n",
    "sns.set_style('whitegrid')"
   ]
  },
  {
   "cell_type": "code",
   "execution_count": 2,
   "outputs": [],
   "source": [
    "def readHugeCsvFileAsDataFrame(file_path):\n",
    "    dask_df = dd.read_csv(file_path, low_memory=False, blocksize=50000)  # 50MB chunk-size\n",
    "    return dask_df.compute()"
   ],
   "metadata": {
    "collapsed": false
   }
  },
  {
   "cell_type": "code",
   "execution_count": 3,
   "outputs": [],
   "source": [
    "path_to_file = 'D:\\\\ML_Sessional\\\\train.csv'\n",
    "scheduler = Client()\n",
    "df = scheduler.submit(readHugeCsvFileAsDataFrame, path_to_file)\n",
    "workingDataFrame = df.result()"
   ],
   "metadata": {
    "collapsed": false
   }
  },
  {
   "cell_type": "code",
   "execution_count": 4,
   "outputs": [],
   "source": [
    "from sklearn.utils import shuffle\n",
    "workingDataFrame = shuffle(workingDataFrame)\n",
    "workingDataFrame.reset_index(inplace=True, drop=True)"
   ],
   "metadata": {
    "collapsed": false
   }
  },
  {
   "cell_type": "markdown",
   "source": [
    "adding a new column `kfold` and giving all value as `-1`"
   ],
   "metadata": {
    "collapsed": false
   }
  },
  {
   "cell_type": "code",
   "execution_count": 5,
   "outputs": [
    {
     "data": {
      "text/plain": "            image_id  grapheme_root  vowel_diacritic  consonant_diacritic  \\\n0       Train_103005            162                3                    0   \n1        Train_68987             27                0                    0   \n2        Train_83856            115                7                    0   \n3        Train_56343             13                1                    6   \n4       Train_160005             72                9                    2   \n...              ...            ...              ...                  ...   \n200835  Train_188223             14                7                    0   \n200836   Train_70721            151                0                    0   \n200837   Train_15165             77                4                    0   \n200838  Train_136487            161                0                    0   \n200839    Train_9454             91                2                    0   \n\n       grapheme  kfold  \n0          হ্মী     -1  \n1           গ্ম     -1  \n2            মে     -1  \n3        ক্র্যা     -1  \n4          র্দো     -1  \n...         ...    ...  \n200835     ক্কে     -1  \n200836      স্থ     -1  \n200837     দ্ভু     -1  \n200838      হ্ব     -1  \n200839     ন্ধি     -1  \n\n[200840 rows x 6 columns]",
      "text/html": "<div>\n<style scoped>\n    .dataframe tbody tr th:only-of-type {\n        vertical-align: middle;\n    }\n\n    .dataframe tbody tr th {\n        vertical-align: top;\n    }\n\n    .dataframe thead th {\n        text-align: right;\n    }\n</style>\n<table border=\"1\" class=\"dataframe\">\n  <thead>\n    <tr style=\"text-align: right;\">\n      <th></th>\n      <th>image_id</th>\n      <th>grapheme_root</th>\n      <th>vowel_diacritic</th>\n      <th>consonant_diacritic</th>\n      <th>grapheme</th>\n      <th>kfold</th>\n    </tr>\n  </thead>\n  <tbody>\n    <tr>\n      <th>0</th>\n      <td>Train_103005</td>\n      <td>162</td>\n      <td>3</td>\n      <td>0</td>\n      <td>হ্মী</td>\n      <td>-1</td>\n    </tr>\n    <tr>\n      <th>1</th>\n      <td>Train_68987</td>\n      <td>27</td>\n      <td>0</td>\n      <td>0</td>\n      <td>গ্ম</td>\n      <td>-1</td>\n    </tr>\n    <tr>\n      <th>2</th>\n      <td>Train_83856</td>\n      <td>115</td>\n      <td>7</td>\n      <td>0</td>\n      <td>মে</td>\n      <td>-1</td>\n    </tr>\n    <tr>\n      <th>3</th>\n      <td>Train_56343</td>\n      <td>13</td>\n      <td>1</td>\n      <td>6</td>\n      <td>ক্র্যা</td>\n      <td>-1</td>\n    </tr>\n    <tr>\n      <th>4</th>\n      <td>Train_160005</td>\n      <td>72</td>\n      <td>9</td>\n      <td>2</td>\n      <td>র্দো</td>\n      <td>-1</td>\n    </tr>\n    <tr>\n      <th>...</th>\n      <td>...</td>\n      <td>...</td>\n      <td>...</td>\n      <td>...</td>\n      <td>...</td>\n      <td>...</td>\n    </tr>\n    <tr>\n      <th>200835</th>\n      <td>Train_188223</td>\n      <td>14</td>\n      <td>7</td>\n      <td>0</td>\n      <td>ক্কে</td>\n      <td>-1</td>\n    </tr>\n    <tr>\n      <th>200836</th>\n      <td>Train_70721</td>\n      <td>151</td>\n      <td>0</td>\n      <td>0</td>\n      <td>স্থ</td>\n      <td>-1</td>\n    </tr>\n    <tr>\n      <th>200837</th>\n      <td>Train_15165</td>\n      <td>77</td>\n      <td>4</td>\n      <td>0</td>\n      <td>দ্ভু</td>\n      <td>-1</td>\n    </tr>\n    <tr>\n      <th>200838</th>\n      <td>Train_136487</td>\n      <td>161</td>\n      <td>0</td>\n      <td>0</td>\n      <td>হ্ব</td>\n      <td>-1</td>\n    </tr>\n    <tr>\n      <th>200839</th>\n      <td>Train_9454</td>\n      <td>91</td>\n      <td>2</td>\n      <td>0</td>\n      <td>ন্ধি</td>\n      <td>-1</td>\n    </tr>\n  </tbody>\n</table>\n<p>200840 rows × 6 columns</p>\n</div>"
     },
     "execution_count": 5,
     "metadata": {},
     "output_type": "execute_result"
    }
   ],
   "source": [
    "workingDataFrame.loc[:,'kfold'] = -1\n",
    "workingDataFrame"
   ],
   "metadata": {
    "collapsed": false
   }
  },
  {
   "cell_type": "code",
   "execution_count": 7,
   "outputs": [],
   "source": [
    "from iterstrat.ml_stratifiers import MultilabelStratifiedKFold\n",
    "\n",
    "x = workingDataFrame.image_id.values\n",
    "y = workingDataFrame[['grapheme_root','vowel_diacritic','consonant_diacritic']].values\n",
    "\n",
    "mskf = MultilabelStratifiedKFold(n_splits=5)\n",
    "\n",
    "for fold, (train,validation) in enumerate(mskf.split(x,y)):\n",
    "    # print(\"train : \",train,\" Validation : \",validation)\n",
    "    workingDataFrame.loc[validation,\"kfold\"] = fold\n",
    "\n",
    "# print(workingDataFrame.kfold.value_counts())\n",
    "workingDataFrame.to_csv('../input/train_folds.csv',index=False)"
   ],
   "metadata": {
    "collapsed": false
   }
  }
 ],
 "metadata": {
  "kernelspec": {
   "name": "conda-env-ml_env-py",
   "language": "python",
   "display_name": "Python [conda env:ml_env] *"
  },
  "language_info": {
   "codemirror_mode": {
    "name": "ipython",
    "version": 2
   },
   "file_extension": ".py",
   "mimetype": "text/x-python",
   "name": "python",
   "nbconvert_exporter": "python",
   "pygments_lexer": "ipython2",
   "version": "2.7.6"
  }
 },
 "nbformat": 4,
 "nbformat_minor": 0
}
