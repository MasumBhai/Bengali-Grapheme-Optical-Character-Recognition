{
 "cells": [
  {
   "cell_type": "code",
   "execution_count": 3,
   "metadata": {
    "collapsed": true
   },
   "outputs": [],
   "source": [
    "import warnings\n",
    "\n",
    "from dask import dataframe as dd\n",
    "from dask.distributed import Client\n",
    "\n",
    "import numpy as np\n",
    "import pandas as pd\n",
    "\n",
    "warnings.simplefilter('ignore')\n",
    "\n",
    "def readHugeParquetFileAsDataFrame(file_path):\n",
    "    dask_df = dd.read_parquet(file_path, low_memory=False)\n",
    "    return dask_df.compute()"
   ]
  },
  {
   "cell_type": "code",
   "execution_count": 8,
   "outputs": [
    {
     "data": {
      "text/plain": "  image_id    0    1    2    3    4    5    6    7    8  ...  32322  32323  \\\n0  Train_0  254  253  252  253  251  252  253  251  251  ...    253    253   \n1  Train_1  251  244  238  245  248  246  246  247  251  ...    255    255   \n2  Train_2  251  250  249  250  249  245  247  252  252  ...    254    253   \n3  Train_3  247  247  249  253  253  252  251  251  250  ...    254    254   \n4  Train_4  249  248  246  246  248  244  242  242  229  ...    255    255   \n\n   32324  32325  32326  32327  32328  32329  32330  32331  \n0    253    253    253    253    253    253    253    251  \n1    255    255    255    255    255    255    255    254  \n2    252    252    253    253    253    253    251    249  \n3    254    254    254    253    253    252    251    252  \n4    255    255    255    255    255    255    255    255  \n\n[5 rows x 32333 columns]",
      "text/html": "<div>\n<style scoped>\n    .dataframe tbody tr th:only-of-type {\n        vertical-align: middle;\n    }\n\n    .dataframe tbody tr th {\n        vertical-align: top;\n    }\n\n    .dataframe thead th {\n        text-align: right;\n    }\n</style>\n<table border=\"1\" class=\"dataframe\">\n  <thead>\n    <tr style=\"text-align: right;\">\n      <th></th>\n      <th>image_id</th>\n      <th>0</th>\n      <th>1</th>\n      <th>2</th>\n      <th>3</th>\n      <th>4</th>\n      <th>5</th>\n      <th>6</th>\n      <th>7</th>\n      <th>8</th>\n      <th>...</th>\n      <th>32322</th>\n      <th>32323</th>\n      <th>32324</th>\n      <th>32325</th>\n      <th>32326</th>\n      <th>32327</th>\n      <th>32328</th>\n      <th>32329</th>\n      <th>32330</th>\n      <th>32331</th>\n    </tr>\n  </thead>\n  <tbody>\n    <tr>\n      <th>0</th>\n      <td>Train_0</td>\n      <td>254</td>\n      <td>253</td>\n      <td>252</td>\n      <td>253</td>\n      <td>251</td>\n      <td>252</td>\n      <td>253</td>\n      <td>251</td>\n      <td>251</td>\n      <td>...</td>\n      <td>253</td>\n      <td>253</td>\n      <td>253</td>\n      <td>253</td>\n      <td>253</td>\n      <td>253</td>\n      <td>253</td>\n      <td>253</td>\n      <td>253</td>\n      <td>251</td>\n    </tr>\n    <tr>\n      <th>1</th>\n      <td>Train_1</td>\n      <td>251</td>\n      <td>244</td>\n      <td>238</td>\n      <td>245</td>\n      <td>248</td>\n      <td>246</td>\n      <td>246</td>\n      <td>247</td>\n      <td>251</td>\n      <td>...</td>\n      <td>255</td>\n      <td>255</td>\n      <td>255</td>\n      <td>255</td>\n      <td>255</td>\n      <td>255</td>\n      <td>255</td>\n      <td>255</td>\n      <td>255</td>\n      <td>254</td>\n    </tr>\n    <tr>\n      <th>2</th>\n      <td>Train_2</td>\n      <td>251</td>\n      <td>250</td>\n      <td>249</td>\n      <td>250</td>\n      <td>249</td>\n      <td>245</td>\n      <td>247</td>\n      <td>252</td>\n      <td>252</td>\n      <td>...</td>\n      <td>254</td>\n      <td>253</td>\n      <td>252</td>\n      <td>252</td>\n      <td>253</td>\n      <td>253</td>\n      <td>253</td>\n      <td>253</td>\n      <td>251</td>\n      <td>249</td>\n    </tr>\n    <tr>\n      <th>3</th>\n      <td>Train_3</td>\n      <td>247</td>\n      <td>247</td>\n      <td>249</td>\n      <td>253</td>\n      <td>253</td>\n      <td>252</td>\n      <td>251</td>\n      <td>251</td>\n      <td>250</td>\n      <td>...</td>\n      <td>254</td>\n      <td>254</td>\n      <td>254</td>\n      <td>254</td>\n      <td>254</td>\n      <td>253</td>\n      <td>253</td>\n      <td>252</td>\n      <td>251</td>\n      <td>252</td>\n    </tr>\n    <tr>\n      <th>4</th>\n      <td>Train_4</td>\n      <td>249</td>\n      <td>248</td>\n      <td>246</td>\n      <td>246</td>\n      <td>248</td>\n      <td>244</td>\n      <td>242</td>\n      <td>242</td>\n      <td>229</td>\n      <td>...</td>\n      <td>255</td>\n      <td>255</td>\n      <td>255</td>\n      <td>255</td>\n      <td>255</td>\n      <td>255</td>\n      <td>255</td>\n      <td>255</td>\n      <td>255</td>\n      <td>255</td>\n    </tr>\n  </tbody>\n</table>\n<p>5 rows × 32333 columns</p>\n</div>"
     },
     "execution_count": 8,
     "metadata": {},
     "output_type": "execute_result"
    }
   ],
   "source": [
    "path_to_file = 'D:\\\\ML_Sessional\\\\train_image_data_0.parquet'\n",
    "# scheduler = Client()\n",
    "# df = scheduler.submit(readHugeParquetFileAsDataFrame, path_to_file)\n",
    "# workingDataFrame = df.result()\n",
    "workingDataFrame = pd.read_parquet(path_to_file)\n",
    "workingDataFrame.head()"
   ],
   "metadata": {
    "collapsed": false
   }
  },
  {
   "cell_type": "code",
   "execution_count": null,
   "outputs": [],
   "source": [],
   "metadata": {
    "collapsed": false
   }
  }
 ],
 "metadata": {
  "kernelspec": {
   "display_name": "Python 3",
   "language": "python",
   "name": "python3"
  },
  "language_info": {
   "codemirror_mode": {
    "name": "ipython",
    "version": 2
   },
   "file_extension": ".py",
   "mimetype": "text/x-python",
   "name": "python",
   "nbconvert_exporter": "python",
   "pygments_lexer": "ipython2",
   "version": "2.7.6"
  }
 },
 "nbformat": 4,
 "nbformat_minor": 0
}
