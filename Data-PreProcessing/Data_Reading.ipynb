{
 "cells": [
  {
   "cell_type": "code",
   "execution_count": 1,
   "metadata": {
    "collapsed": true
   },
   "outputs": [],
   "source": [
    "# general packages\n",
    "import random\n",
    "import warnings\n",
    "import seaborn as sns\n",
    "\n",
    "\n",
    "from dask import dataframe as dd\n",
    "from dask.distributed import Client\n",
    "\n",
    "warnings.simplefilter('ignore')\n",
    "sns.set_style('whitegrid')"
   ]
  },
  {
   "cell_type": "code",
   "execution_count": 2,
   "outputs": [],
   "source": [
    "def readHugeCsvFileAsDataFrame(file_path):\n",
    "    dask_df = dd.read_csv(file_path, low_memory=False, blocksize=50000)  # 50MB chunk-size\n",
    "    return dask_df.compute()"
   ],
   "metadata": {
    "collapsed": false
   }
  },
  {
   "cell_type": "code",
   "execution_count": 3,
   "outputs": [],
   "source": [
    "path_to_file = 'D:\\\\ML_Sessional\\\\train.csv'\n",
    "scheduler = Client()\n",
    "df = scheduler.submit(readHugeCsvFileAsDataFrame, path_to_file)\n",
    "workingDataFrame = df.result()"
   ],
   "metadata": {
    "collapsed": false
   }
  },
  {
   "cell_type": "code",
   "execution_count": 4,
   "outputs": [],
   "source": [
    "from sklearn.utils import shuffle\n",
    "workingDataFrame = shuffle(workingDataFrame)\n",
    "workingDataFrame.reset_index(inplace=True, drop=True)"
   ],
   "metadata": {
    "collapsed": false
   }
  },
  {
   "cell_type": "markdown",
   "source": [
    "adding a new column `kfold` and giving all value as `-1`"
   ],
   "metadata": {
    "collapsed": false
   }
  },
  {
   "cell_type": "code",
   "execution_count": 5,
   "outputs": [
    {
     "data": {
      "text/plain": "            image_id  grapheme_root  vowel_diacritic  consonant_diacritic  \\\n0         Train_6579            144                0                    0   \n1       Train_138692             56                0                    2   \n2       Train_170764             96                1                    1   \n3        Train_45514             52                0                    0   \n4       Train_144449             22                7                    0   \n...              ...            ...              ...                  ...   \n200835  Train_197369             53                2                    5   \n200836   Train_51200             25                0                    0   \n200837    Train_5969             79                2                    4   \n200838  Train_154707             89                9                    0   \n200839  Train_158123            111                0                    2   \n\n       grapheme  kfold  \n0           ষ্প     -1  \n1           র্ড     -1  \n2           পাঁ     -1  \n3           ঞ্জ     -1  \n4            খে     -1  \n...         ...    ...  \n200835     ট্রি     -1  \n200836      গ্ন     -1  \n200837     ধ্যি     -1  \n200838     ন্দো     -1  \n200839    র্ব্ব     -1  \n\n[200840 rows x 6 columns]",
      "text/html": "<div>\n<style scoped>\n    .dataframe tbody tr th:only-of-type {\n        vertical-align: middle;\n    }\n\n    .dataframe tbody tr th {\n        vertical-align: top;\n    }\n\n    .dataframe thead th {\n        text-align: right;\n    }\n</style>\n<table border=\"1\" class=\"dataframe\">\n  <thead>\n    <tr style=\"text-align: right;\">\n      <th></th>\n      <th>image_id</th>\n      <th>grapheme_root</th>\n      <th>vowel_diacritic</th>\n      <th>consonant_diacritic</th>\n      <th>grapheme</th>\n      <th>kfold</th>\n    </tr>\n  </thead>\n  <tbody>\n    <tr>\n      <th>0</th>\n      <td>Train_6579</td>\n      <td>144</td>\n      <td>0</td>\n      <td>0</td>\n      <td>ষ্প</td>\n      <td>-1</td>\n    </tr>\n    <tr>\n      <th>1</th>\n      <td>Train_138692</td>\n      <td>56</td>\n      <td>0</td>\n      <td>2</td>\n      <td>র্ড</td>\n      <td>-1</td>\n    </tr>\n    <tr>\n      <th>2</th>\n      <td>Train_170764</td>\n      <td>96</td>\n      <td>1</td>\n      <td>1</td>\n      <td>পাঁ</td>\n      <td>-1</td>\n    </tr>\n    <tr>\n      <th>3</th>\n      <td>Train_45514</td>\n      <td>52</td>\n      <td>0</td>\n      <td>0</td>\n      <td>ঞ্জ</td>\n      <td>-1</td>\n    </tr>\n    <tr>\n      <th>4</th>\n      <td>Train_144449</td>\n      <td>22</td>\n      <td>7</td>\n      <td>0</td>\n      <td>খে</td>\n      <td>-1</td>\n    </tr>\n    <tr>\n      <th>...</th>\n      <td>...</td>\n      <td>...</td>\n      <td>...</td>\n      <td>...</td>\n      <td>...</td>\n      <td>...</td>\n    </tr>\n    <tr>\n      <th>200835</th>\n      <td>Train_197369</td>\n      <td>53</td>\n      <td>2</td>\n      <td>5</td>\n      <td>ট্রি</td>\n      <td>-1</td>\n    </tr>\n    <tr>\n      <th>200836</th>\n      <td>Train_51200</td>\n      <td>25</td>\n      <td>0</td>\n      <td>0</td>\n      <td>গ্ন</td>\n      <td>-1</td>\n    </tr>\n    <tr>\n      <th>200837</th>\n      <td>Train_5969</td>\n      <td>79</td>\n      <td>2</td>\n      <td>4</td>\n      <td>ধ্যি</td>\n      <td>-1</td>\n    </tr>\n    <tr>\n      <th>200838</th>\n      <td>Train_154707</td>\n      <td>89</td>\n      <td>9</td>\n      <td>0</td>\n      <td>ন্দো</td>\n      <td>-1</td>\n    </tr>\n    <tr>\n      <th>200839</th>\n      <td>Train_158123</td>\n      <td>111</td>\n      <td>0</td>\n      <td>2</td>\n      <td>র্ব্ব</td>\n      <td>-1</td>\n    </tr>\n  </tbody>\n</table>\n<p>200840 rows × 6 columns</p>\n</div>"
     },
     "execution_count": 5,
     "metadata": {},
     "output_type": "execute_result"
    }
   ],
   "source": [
    "workingDataFrame.loc[:,'kfold'] = -1\n",
    "workingDataFrame"
   ],
   "metadata": {
    "collapsed": false
   }
  },
  {
   "cell_type": "code",
   "execution_count": 6,
   "outputs": [],
   "source": [
    "from iterstrat.ml_stratifiers import MultilabelStratifiedKFold\n",
    "\n",
    "x = workingDataFrame.image_id.values\n",
    "y = workingDataFrame[['grapheme_root','vowel_diacritic','consonant_diacritic']].values\n",
    "\n",
    "mskf = MultilabelStratifiedKFold(n_splits=5)\n",
    "\n",
    "for fold, (train,validation) in enumerate(mskf.split(x,y)):\n",
    "    # print(\"train : \",train,\" Validation : \",validation)\n",
    "    workingDataFrame.loc[validation,\"kfold\"] = fold\n",
    "\n",
    "# print(workingDataFrame.kfold.value_counts())\n",
    "workingDataFrame.to_csv('../input/train_folds.csv',index=False)"
   ],
   "metadata": {
    "collapsed": false
   }
  }
 ],
 "metadata": {
  "kernelspec": {
   "display_name": "Python 3",
   "language": "python",
   "name": "python3"
  },
  "language_info": {
   "codemirror_mode": {
    "name": "ipython",
    "version": 2
   },
   "file_extension": ".py",
   "mimetype": "text/x-python",
   "name": "python",
   "nbconvert_exporter": "python",
   "pygments_lexer": "ipython2",
   "version": "2.7.6"
  }
 },
 "nbformat": 4,
 "nbformat_minor": 0
}
