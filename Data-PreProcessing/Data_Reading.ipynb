{
 "cells": [
  {
   "cell_type": "code",
   "execution_count": 7,
   "metadata": {
    "collapsed": true
   },
   "outputs": [],
   "source": [
    "# general packages\n",
    "import os\n",
    "import cv2\n",
    "import gc\n",
    "import math\n",
    "import random\n",
    "import warnings\n",
    "import numpy as np\n",
    "import pandas as pd\n",
    "from PIL import Image\n",
    "from glob import glob\n",
    "import matplotlib.pyplot as plt\n",
    "import seaborn as sns\n",
    "from tqdm.notebook import tqdm\n",
    "\n",
    "#sklearns\n",
    "from sklearn.metrics import cohen_kappa_score, accuracy_score\n",
    "from sklearn.model_selection import train_test_split\n",
    "\n",
    "# keras modules\n",
    "import tensorflow as tf\n",
    "import keras\n",
    "from keras.applications.densenet import DenseNet121, DenseNet169, DenseNet201\n",
    "from keras.optimizers import Adam, Nadam, SGD\n",
    "from keras.preprocessing.image import ImageDataGenerator\n",
    "from keras.models import Model, load_model, Sequential\n",
    "from keras.layers import Dense, GlobalAveragePooling2D, Dropout, Conv2D, GlobalMaxPooling2D, concatenate\n",
    "from keras.layers import (MaxPooling2D, Input, Average, Activation, MaxPool2D,\n",
    "                          Flatten, LeakyReLU, BatchNormalization)\n",
    "from keras import models\n",
    "from keras import layers\n",
    "# from keras.preprocessing.image import load_img\n",
    "# from keras.preprocessing.image import img_to_array\n",
    "\n",
    "from keras.utils import Sequence\n",
    "from keras import utils as np_utils\n",
    "from keras.callbacks import (Callback, ModelCheckpoint,\n",
    "                             LearningRateScheduler, EarlyStopping,\n",
    "                             ReduceLROnPlateau, CSVLogger)\n",
    "\n",
    "from dask import dataframe as dd\n",
    "from dask.distributed import Client\n",
    "\n",
    "warnings.simplefilter('ignore')\n",
    "sns.set_style('whitegrid')"
   ]
  },
  {
   "cell_type": "code",
   "execution_count": 8,
   "outputs": [],
   "source": [
    "def readHugeCsvFileAsDataFrame(file_path):\n",
    "    dask_df = dd.read_csv(file_path, low_memory=False, blocksize=50000)  # 50MB chunk-size\n",
    "    return dask_df.compute()"
   ],
   "metadata": {
    "collapsed": false
   }
  },
  {
   "cell_type": "code",
   "execution_count": 9,
   "outputs": [
    {
     "data": {
      "text/plain": "         image_id  grapheme_root  vowel_diacritic  consonant_diacritic  \\\n0         Train_0             15                9                    5   \n1         Train_1            159                0                    0   \n2         Train_2             22                3                    5   \n3         Train_3             53                2                    2   \n4         Train_4             71                9                    5   \n..            ...            ...              ...                  ...   \n990  Train_200835             22                7                    2   \n991  Train_200836             65                9                    0   \n992  Train_200837              2                1                    4   \n993  Train_200838            152                9                    0   \n994  Train_200839            127                2                    0   \n\n    grapheme  \n0     ক্ট্রো  \n1          হ  \n2       খ্রী  \n3       র্টি  \n4       থ্রো  \n..       ...  \n990     র্খে  \n991     ত্তো  \n992     অ্যা  \n993     স্নো  \n994     ল্টি  \n\n[200840 rows x 5 columns]",
      "text/html": "<div>\n<style scoped>\n    .dataframe tbody tr th:only-of-type {\n        vertical-align: middle;\n    }\n\n    .dataframe tbody tr th {\n        vertical-align: top;\n    }\n\n    .dataframe thead th {\n        text-align: right;\n    }\n</style>\n<table border=\"1\" class=\"dataframe\">\n  <thead>\n    <tr style=\"text-align: right;\">\n      <th></th>\n      <th>image_id</th>\n      <th>grapheme_root</th>\n      <th>vowel_diacritic</th>\n      <th>consonant_diacritic</th>\n      <th>grapheme</th>\n    </tr>\n  </thead>\n  <tbody>\n    <tr>\n      <th>0</th>\n      <td>Train_0</td>\n      <td>15</td>\n      <td>9</td>\n      <td>5</td>\n      <td>ক্ট্রো</td>\n    </tr>\n    <tr>\n      <th>1</th>\n      <td>Train_1</td>\n      <td>159</td>\n      <td>0</td>\n      <td>0</td>\n      <td>হ</td>\n    </tr>\n    <tr>\n      <th>2</th>\n      <td>Train_2</td>\n      <td>22</td>\n      <td>3</td>\n      <td>5</td>\n      <td>খ্রী</td>\n    </tr>\n    <tr>\n      <th>3</th>\n      <td>Train_3</td>\n      <td>53</td>\n      <td>2</td>\n      <td>2</td>\n      <td>র্টি</td>\n    </tr>\n    <tr>\n      <th>4</th>\n      <td>Train_4</td>\n      <td>71</td>\n      <td>9</td>\n      <td>5</td>\n      <td>থ্রো</td>\n    </tr>\n    <tr>\n      <th>...</th>\n      <td>...</td>\n      <td>...</td>\n      <td>...</td>\n      <td>...</td>\n      <td>...</td>\n    </tr>\n    <tr>\n      <th>990</th>\n      <td>Train_200835</td>\n      <td>22</td>\n      <td>7</td>\n      <td>2</td>\n      <td>র্খে</td>\n    </tr>\n    <tr>\n      <th>991</th>\n      <td>Train_200836</td>\n      <td>65</td>\n      <td>9</td>\n      <td>0</td>\n      <td>ত্তো</td>\n    </tr>\n    <tr>\n      <th>992</th>\n      <td>Train_200837</td>\n      <td>2</td>\n      <td>1</td>\n      <td>4</td>\n      <td>অ্যা</td>\n    </tr>\n    <tr>\n      <th>993</th>\n      <td>Train_200838</td>\n      <td>152</td>\n      <td>9</td>\n      <td>0</td>\n      <td>স্নো</td>\n    </tr>\n    <tr>\n      <th>994</th>\n      <td>Train_200839</td>\n      <td>127</td>\n      <td>2</td>\n      <td>0</td>\n      <td>ল্টি</td>\n    </tr>\n  </tbody>\n</table>\n<p>200840 rows × 5 columns</p>\n</div>"
     },
     "execution_count": 9,
     "metadata": {},
     "output_type": "execute_result"
    }
   ],
   "source": [
    "path_to_file = 'D:\\\\ML_Sessional\\\\train.csv'\n",
    "scheduler = Client()\n",
    "df = scheduler.submit(readHugeCsvFileAsDataFrame, path_to_file)\n",
    "workingDataFrame = df.result()"
   ],
   "metadata": {
    "collapsed": false
   }
  },
  {
   "cell_type": "code",
   "execution_count": 10,
   "outputs": [
    {
     "data": {
      "text/plain": "            image_id  grapheme_root  vowel_diacritic  consonant_diacritic  \\\n0       Train_113802              5                0                    0   \n1       Train_104015             85                1                    0   \n2        Train_26874            134                1                    0   \n3        Train_87607            151                7                    0   \n4       Train_167117            107                2                    0   \n...              ...            ...              ...                  ...   \n200835   Train_45425             70                0                    4   \n200836   Train_19447            136                0                    2   \n200837   Train_67556             92                1                    0   \n200838  Train_189207             85                2                    0   \n200839    Train_6555             74                1                    0   \n\n       grapheme  \n0             ঈ  \n1          ন্ডা  \n2          শ্চা  \n3          স্থে  \n4            বি  \n...         ...  \n200835    ত্ম্য  \n200836    র্শ্ব  \n200837     ন্না  \n200838     ন্ডি  \n200839     দ্দা  \n\n[200840 rows x 5 columns]",
      "text/html": "<div>\n<style scoped>\n    .dataframe tbody tr th:only-of-type {\n        vertical-align: middle;\n    }\n\n    .dataframe tbody tr th {\n        vertical-align: top;\n    }\n\n    .dataframe thead th {\n        text-align: right;\n    }\n</style>\n<table border=\"1\" class=\"dataframe\">\n  <thead>\n    <tr style=\"text-align: right;\">\n      <th></th>\n      <th>image_id</th>\n      <th>grapheme_root</th>\n      <th>vowel_diacritic</th>\n      <th>consonant_diacritic</th>\n      <th>grapheme</th>\n    </tr>\n  </thead>\n  <tbody>\n    <tr>\n      <th>0</th>\n      <td>Train_113802</td>\n      <td>5</td>\n      <td>0</td>\n      <td>0</td>\n      <td>ঈ</td>\n    </tr>\n    <tr>\n      <th>1</th>\n      <td>Train_104015</td>\n      <td>85</td>\n      <td>1</td>\n      <td>0</td>\n      <td>ন্ডা</td>\n    </tr>\n    <tr>\n      <th>2</th>\n      <td>Train_26874</td>\n      <td>134</td>\n      <td>1</td>\n      <td>0</td>\n      <td>শ্চা</td>\n    </tr>\n    <tr>\n      <th>3</th>\n      <td>Train_87607</td>\n      <td>151</td>\n      <td>7</td>\n      <td>0</td>\n      <td>স্থে</td>\n    </tr>\n    <tr>\n      <th>4</th>\n      <td>Train_167117</td>\n      <td>107</td>\n      <td>2</td>\n      <td>0</td>\n      <td>বি</td>\n    </tr>\n    <tr>\n      <th>...</th>\n      <td>...</td>\n      <td>...</td>\n      <td>...</td>\n      <td>...</td>\n      <td>...</td>\n    </tr>\n    <tr>\n      <th>200835</th>\n      <td>Train_45425</td>\n      <td>70</td>\n      <td>0</td>\n      <td>4</td>\n      <td>ত্ম্য</td>\n    </tr>\n    <tr>\n      <th>200836</th>\n      <td>Train_19447</td>\n      <td>136</td>\n      <td>0</td>\n      <td>2</td>\n      <td>র্শ্ব</td>\n    </tr>\n    <tr>\n      <th>200837</th>\n      <td>Train_67556</td>\n      <td>92</td>\n      <td>1</td>\n      <td>0</td>\n      <td>ন্না</td>\n    </tr>\n    <tr>\n      <th>200838</th>\n      <td>Train_189207</td>\n      <td>85</td>\n      <td>2</td>\n      <td>0</td>\n      <td>ন্ডি</td>\n    </tr>\n    <tr>\n      <th>200839</th>\n      <td>Train_6555</td>\n      <td>74</td>\n      <td>1</td>\n      <td>0</td>\n      <td>দ্দা</td>\n    </tr>\n  </tbody>\n</table>\n<p>200840 rows × 5 columns</p>\n</div>"
     },
     "execution_count": 10,
     "metadata": {},
     "output_type": "execute_result"
    }
   ],
   "source": [
    "from sklearn.utils import shuffle\n",
    "workingDataFrame = shuffle(workingDataFrame)\n",
    "workingDataFrame.reset_index(inplace=True, drop=True)"
   ],
   "metadata": {
    "collapsed": false
   }
  },
  {
   "cell_type": "markdown",
   "source": [
    "adding a new column `kfold` and giving all value as `-1`"
   ],
   "metadata": {
    "collapsed": false
   }
  },
  {
   "cell_type": "code",
   "execution_count": 12,
   "outputs": [
    {
     "data": {
      "text/plain": "            image_id  grapheme_root  vowel_diacritic  consonant_diacritic  \\\n0       Train_113802              5                0                    0   \n1       Train_104015             85                1                    0   \n2        Train_26874            134                1                    0   \n3        Train_87607            151                7                    0   \n4       Train_167117            107                2                    0   \n...              ...            ...              ...                  ...   \n200835   Train_45425             70                0                    4   \n200836   Train_19447            136                0                    2   \n200837   Train_67556             92                1                    0   \n200838  Train_189207             85                2                    0   \n200839    Train_6555             74                1                    0   \n\n       grapheme  kfold  \n0             ঈ     -1  \n1          ন্ডা     -1  \n2          শ্চা     -1  \n3          স্থে     -1  \n4            বি     -1  \n...         ...    ...  \n200835    ত্ম্য     -1  \n200836    র্শ্ব     -1  \n200837     ন্না     -1  \n200838     ন্ডি     -1  \n200839     দ্দা     -1  \n\n[200840 rows x 6 columns]",
      "text/html": "<div>\n<style scoped>\n    .dataframe tbody tr th:only-of-type {\n        vertical-align: middle;\n    }\n\n    .dataframe tbody tr th {\n        vertical-align: top;\n    }\n\n    .dataframe thead th {\n        text-align: right;\n    }\n</style>\n<table border=\"1\" class=\"dataframe\">\n  <thead>\n    <tr style=\"text-align: right;\">\n      <th></th>\n      <th>image_id</th>\n      <th>grapheme_root</th>\n      <th>vowel_diacritic</th>\n      <th>consonant_diacritic</th>\n      <th>grapheme</th>\n      <th>kfold</th>\n    </tr>\n  </thead>\n  <tbody>\n    <tr>\n      <th>0</th>\n      <td>Train_113802</td>\n      <td>5</td>\n      <td>0</td>\n      <td>0</td>\n      <td>ঈ</td>\n      <td>-1</td>\n    </tr>\n    <tr>\n      <th>1</th>\n      <td>Train_104015</td>\n      <td>85</td>\n      <td>1</td>\n      <td>0</td>\n      <td>ন্ডা</td>\n      <td>-1</td>\n    </tr>\n    <tr>\n      <th>2</th>\n      <td>Train_26874</td>\n      <td>134</td>\n      <td>1</td>\n      <td>0</td>\n      <td>শ্চা</td>\n      <td>-1</td>\n    </tr>\n    <tr>\n      <th>3</th>\n      <td>Train_87607</td>\n      <td>151</td>\n      <td>7</td>\n      <td>0</td>\n      <td>স্থে</td>\n      <td>-1</td>\n    </tr>\n    <tr>\n      <th>4</th>\n      <td>Train_167117</td>\n      <td>107</td>\n      <td>2</td>\n      <td>0</td>\n      <td>বি</td>\n      <td>-1</td>\n    </tr>\n    <tr>\n      <th>...</th>\n      <td>...</td>\n      <td>...</td>\n      <td>...</td>\n      <td>...</td>\n      <td>...</td>\n      <td>...</td>\n    </tr>\n    <tr>\n      <th>200835</th>\n      <td>Train_45425</td>\n      <td>70</td>\n      <td>0</td>\n      <td>4</td>\n      <td>ত্ম্য</td>\n      <td>-1</td>\n    </tr>\n    <tr>\n      <th>200836</th>\n      <td>Train_19447</td>\n      <td>136</td>\n      <td>0</td>\n      <td>2</td>\n      <td>র্শ্ব</td>\n      <td>-1</td>\n    </tr>\n    <tr>\n      <th>200837</th>\n      <td>Train_67556</td>\n      <td>92</td>\n      <td>1</td>\n      <td>0</td>\n      <td>ন্না</td>\n      <td>-1</td>\n    </tr>\n    <tr>\n      <th>200838</th>\n      <td>Train_189207</td>\n      <td>85</td>\n      <td>2</td>\n      <td>0</td>\n      <td>ন্ডি</td>\n      <td>-1</td>\n    </tr>\n    <tr>\n      <th>200839</th>\n      <td>Train_6555</td>\n      <td>74</td>\n      <td>1</td>\n      <td>0</td>\n      <td>দ্দা</td>\n      <td>-1</td>\n    </tr>\n  </tbody>\n</table>\n<p>200840 rows × 6 columns</p>\n</div>"
     },
     "execution_count": 12,
     "metadata": {},
     "output_type": "execute_result"
    }
   ],
   "source": [
    "workingDataFrame.loc[:,'kfold'] = -1\n",
    "workingDataFrame"
   ],
   "metadata": {
    "collapsed": false
   }
  },
  {
   "cell_type": "code",
   "execution_count": 18,
   "outputs": [
    {
     "name": "stdout",
     "output_type": "stream",
     "text": [
      "train :  [     0      5      6 ... 200836 200838 200839]  Validation :  [     1      2      3 ... 200826 200827 200837]\n",
      "train :  [     0      1      2 ... 200837 200838 200839]  Validation :  [     6     19     24 ... 200828 200832 200836]\n",
      "train :  [     0      1      2 ... 200836 200837 200838]  Validation :  [     5     20     23 ... 200831 200834 200839]\n",
      "train :  [     1      2      3 ... 200836 200837 200839]  Validation :  [     0      7     22 ... 200830 200835 200838]\n",
      "train :  [     0      1      2 ... 200837 200838 200839]  Validation :  [    16     18     21 ... 200824 200829 200833]\n",
      "3    40168\n",
      "0    40168\n",
      "2    40168\n",
      "1    40168\n",
      "4    40168\n",
      "Name: kfold, dtype: int64\n"
     ]
    }
   ],
   "source": [
    "from iterstrat.ml_stratifiers import MultilabelStratifiedKFold\n",
    "\n",
    "x = workingDataFrame.image_id.values\n",
    "y = workingDataFrame[['grapheme_root','vowel_diacritic','consonant_diacritic']].values\n",
    "\n",
    "mskf = MultilabelStratifiedKFold(n_splits=5)\n",
    "\n",
    "for fold, (train,validation) in enumerate(mskf.split(x,y)):\n",
    "    # print(\"train : \",train,\" Validation : \",validation)\n",
    "    workingDataFrame.loc[validation,\"kfold\"] = fold\n",
    "\n",
    "# print(workingDataFrame.kfold.value_counts())\n",
    "workingDataFrame.to_csv('../input/train_folds.csv',index=False)"
   ],
   "metadata": {
    "collapsed": false
   }
  }
 ],
 "metadata": {
  "kernelspec": {
   "display_name": "Python 3",
   "language": "python",
   "name": "python3"
  },
  "language_info": {
   "codemirror_mode": {
    "name": "ipython",
    "version": 2
   },
   "file_extension": ".py",
   "mimetype": "text/x-python",
   "name": "python",
   "nbconvert_exporter": "python",
   "pygments_lexer": "ipython2",
   "version": "2.7.6"
  }
 },
 "nbformat": 4,
 "nbformat_minor": 0
}
