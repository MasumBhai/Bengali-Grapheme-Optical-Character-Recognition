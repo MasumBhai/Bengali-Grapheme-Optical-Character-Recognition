{
 "cells": [
  {
   "cell_type": "code",
   "execution_count": null,
   "metadata": {
    "collapsed": true
   },
   "outputs": [],
   "source": [
    "# general packages\n",
    "import os\n",
    "import cv2\n",
    "import gc\n",
    "import math\n",
    "import random\n",
    "import warnings\n",
    "import numpy as np\n",
    "import pandas as pd\n",
    "from PIL import Image\n",
    "from glob import glob\n",
    "import matplotlib.pyplot as plt\n",
    "import seaborn as sns\n",
    "from tqdm.notebook import tqdm\n",
    "\n",
    "#sklearns\n",
    "from sklearn.metrics import cohen_kappa_score, accuracy_score\n",
    "from sklearn.model_selection import train_test_split\n",
    "\n",
    "# keras modules\n",
    "import tensorflow as tf\n",
    "import keras\n",
    "from keras.applications.densenet import DenseNet121, DenseNet169, DenseNet201\n",
    "from keras.optimizers import Adam, Nadam, SGD\n",
    "from keras.preprocessing.image import ImageDataGenerator\n",
    "from keras.models import Model, load_model, Sequential\n",
    "from keras.layers import Dense, GlobalAveragePooling2D, Dropout, Conv2D, GlobalMaxPooling2D, concatenate\n",
    "from keras.layers import (MaxPooling2D, Input, Average, Activation, MaxPool2D,\n",
    "                          Flatten, LeakyReLU, BatchNormalization)\n",
    "from keras import models\n",
    "from keras import layers\n",
    "from keras.preprocessing.image import load_img\n",
    "from keras.preprocessing.image import img_to_array\n",
    "\n",
    "from keras.utils import Sequence\n",
    "from keras import utils as np_utils\n",
    "from keras.callbacks import (Callback, ModelCheckpoint,\n",
    "                             LearningRateScheduler,EarlyStopping,\n",
    "                             ReduceLROnPlateau,CSVLogger)\n",
    "\n",
    "warnings.simplefilter('ignore')\n",
    "sns.set_style('whitegrid')"
   ]
  }
 ],
 "metadata": {
  "kernelspec": {
   "display_name": "Python 3",
   "language": "python",
   "name": "python3"
  },
  "language_info": {
   "codemirror_mode": {
    "name": "ipython",
    "version": 2
   },
   "file_extension": ".py",
   "mimetype": "text/x-python",
   "name": "python",
   "nbconvert_exporter": "python",
   "pygments_lexer": "ipython2",
   "version": "2.7.6"
  }
 },
 "nbformat": 4,
 "nbformat_minor": 0
}
