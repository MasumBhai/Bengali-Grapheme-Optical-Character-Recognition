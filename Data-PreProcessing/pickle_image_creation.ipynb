{
 "cells": [
  {
   "cell_type": "code",
   "execution_count": 1,
   "metadata": {
    "collapsed": true
   },
   "outputs": [],
   "source": [
    "import warnings\n",
    "\n",
    "import pandas as pd\n",
    "import joblib\n",
    "from tqdm import tqdm\n",
    "import glob\n",
    "\n",
    "warnings.simplefilter('ignore')"
   ]
  },
  {
   "cell_type": "markdown",
   "source": [
    "to see all training parquets file | using wildcard"
   ],
   "metadata": {
    "collapsed": false
   }
  },
  {
   "cell_type": "code",
   "execution_count": null,
   "outputs": [
    {
     "name": "stderr",
     "output_type": "stream",
     "text": [
      "100%|██████████| 50210/50210 [03:17<00:00, 254.05it/s]\n"
     ]
    }
   ],
   "source": [
    "files = glob.glob(\"D:\\\\ML_Sessional\\\\train_*.parquet\")\n",
    "for f in files:\n",
    "    df = pd.read_parquet(f)\n",
    "    image_ids = df.image_id.values\n",
    "    df = df.drop(\"image_id\",axis=1)\n",
    "    image_arrays = df.values\n",
    "    for j,img_id in tqdm(enumerate(image_ids),total=len(image_ids)):\n",
    "        joblib.dump(image_arrays[j,:],f\"../input/pickle/{img_id}.pkl\")"
   ],
   "metadata": {
    "collapsed": false,
    "pycharm": {
     "is_executing": true
    }
   }
  }
 ],
 "metadata": {
  "kernelspec": {
   "display_name": "Python 3",
   "language": "python",
   "name": "python3"
  },
  "language_info": {
   "codemirror_mode": {
    "name": "ipython",
    "version": 2
   },
   "file_extension": ".py",
   "mimetype": "text/x-python",
   "name": "python",
   "nbconvert_exporter": "python",
   "pygments_lexer": "ipython2",
   "version": "2.7.6"
  }
 },
 "nbformat": 4,
 "nbformat_minor": 0
}
